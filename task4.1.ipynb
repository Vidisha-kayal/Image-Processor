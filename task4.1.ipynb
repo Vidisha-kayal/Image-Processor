{
 "cells": [
  {
   "cell_type": "code",
   "execution_count": 278,
   "id": "176aa9f6",
   "metadata": {},
   "outputs": [],
   "source": [
    "#create your own image"
   ]
  },
  {
   "cell_type": "code",
   "execution_count": 279,
   "id": "4492102b",
   "metadata": {},
   "outputs": [],
   "source": [
    "import numpy"
   ]
  },
  {
   "cell_type": "code",
   "execution_count": 280,
   "id": "821470b0",
   "metadata": {},
   "outputs": [],
   "source": [
    "my_creation=numpy.zeros((400,400,3)) "
   ]
  },
  {
   "cell_type": "code",
   "execution_count": 281,
   "id": "22fedc6e",
   "metadata": {},
   "outputs": [],
   "source": [
    "import cv2"
   ]
  },
  {
   "cell_type": "code",
   "execution_count": 282,
   "id": "e6ea2119",
   "metadata": {},
   "outputs": [],
   "source": [
    "#triangle\n",
    "my_creation=cv2.line(my_creation,(150, 114), (250, 114), (0, 0, 255), 6)\n",
    "my_creation=cv2.line(my_creation,(150, 114), (200, 20), (0, 0, 255), 6)\n",
    "my_creation=cv2.line(my_creation,(200, 20), (250, 114), (0, 0, 255), 6)"
   ]
  },
  {
   "cell_type": "code",
   "execution_count": 283,
   "id": "ddc74a49",
   "metadata": {},
   "outputs": [],
   "source": [
    "#line inside triangle\n",
    "my_creation=cv2.line(my_creation,(180, 95), (220, 95), (255, 255, 255), 4)"
   ]
  },
  {
   "cell_type": "code",
   "execution_count": 284,
   "id": "ead3f101",
   "metadata": {},
   "outputs": [],
   "source": [
    "#small_circles\n",
    "my_creation=cv2.circle(my_creation,(190, 70), 5, (255, 255, 255), 3)\n",
    "my_creation=cv2.circle(my_creation,(210, 70), 5, (255, 255, 255), 3)"
   ]
  },
  {
   "cell_type": "code",
   "execution_count": 285,
   "id": "64e147e5",
   "metadata": {},
   "outputs": [],
   "source": [
    "#circle\n",
    "my_creation=cv2.circle(my_creation,(200, 200), 80, (255, 0, 0), 6)"
   ]
  },
  {
   "cell_type": "code",
   "execution_count": 286,
   "id": "8f706ef3",
   "metadata": {},
   "outputs": [],
   "source": [
    "#diagonal lines\n",
    "my_creation=cv2.line(my_creation,(50, 130), (120, 170), (0, 255, 0), 6)\n",
    "my_creation=cv2.line(my_creation,(280, 170), (350, 130), (0, 255, 0), 6)\n",
    "#straight lines\n",
    "my_creation=cv2.line(my_creation,(50, 100), (50, 130), (0, 255, 0), 6)\n",
    "my_creation=cv2.line(my_creation,(350, 100), (350, 130), (0, 255, 0), 6)"
   ]
  },
  {
   "cell_type": "code",
   "execution_count": 287,
   "id": "2ef95f1d",
   "metadata": {},
   "outputs": [],
   "source": [
    "#lower left triangle\n",
    "my_creation=cv2.line(my_creation,(167, 280), (142, 360), (0, 255, 0), 6)\n",
    "my_creation=cv2.line(my_creation,(142, 360), (197, 360), (0, 255, 0), 6)\n",
    "my_creation=cv2.line(my_creation,(167, 280), (197, 360), (0, 255, 0), 6)\n",
    "#lower right triangle\n",
    "my_creation=cv2.line(my_creation,(233, 280), (208, 360), (0, 255, 0), 6)\n",
    "my_creation=cv2.line(my_creation,(208, 360), (263, 360), (0, 255, 0), 6)\n",
    "my_creation=cv2.line(my_creation,(233, 280), (263, 360), (0, 255, 0), 6)"
   ]
  },
  {
   "cell_type": "code",
   "execution_count": 288,
   "id": "9fd71c9c",
   "metadata": {},
   "outputs": [],
   "source": [
    "cv2.imshow(\"my_image\",my_creation)\n",
    "cv2.waitKey()\n",
    "cv2.destroyAllWindows()"
   ]
  },
  {
   "cell_type": "code",
   "execution_count": null,
   "id": "85d9163f",
   "metadata": {},
   "outputs": [],
   "source": []
  }
 ],
 "metadata": {
  "kernelspec": {
   "display_name": "Python 3",
   "language": "python",
   "name": "python3"
  },
  "language_info": {
   "codemirror_mode": {
    "name": "ipython",
    "version": 3
   },
   "file_extension": ".py",
   "mimetype": "text/x-python",
   "name": "python",
   "nbconvert_exporter": "python",
   "pygments_lexer": "ipython3",
   "version": "3.8.8"
  }
 },
 "nbformat": 4,
 "nbformat_minor": 5
}
