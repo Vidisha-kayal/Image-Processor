{
 "cells": [
  {
   "cell_type": "code",
   "execution_count": 165,
   "id": "1ab9a4ca",
   "metadata": {},
   "outputs": [],
   "source": [
    "#Cropping and swaping of image"
   ]
  },
  {
   "cell_type": "code",
   "execution_count": 166,
   "id": "6faa5374",
   "metadata": {},
   "outputs": [],
   "source": [
    "import cv2"
   ]
  },
  {
   "cell_type": "code",
   "execution_count": 167,
   "id": "228286c4",
   "metadata": {},
   "outputs": [],
   "source": [
    "kenichi=cv2.imread(\"kenichi.png\")"
   ]
  },
  {
   "cell_type": "code",
   "execution_count": 168,
   "id": "8b9255a8",
   "metadata": {},
   "outputs": [
    {
     "data": {
      "text/plain": [
       "(350, 350, 3)"
      ]
     },
     "execution_count": 168,
     "metadata": {},
     "output_type": "execute_result"
    }
   ],
   "source": [
    "kenichi.shape"
   ]
  },
  {
   "cell_type": "code",
   "execution_count": 169,
   "id": "2dce0611",
   "metadata": {},
   "outputs": [],
   "source": [
    "amara=cv2.imread(\"amara.jpeg\")"
   ]
  },
  {
   "cell_type": "code",
   "execution_count": 170,
   "id": "2a279545",
   "metadata": {},
   "outputs": [
    {
     "data": {
      "text/plain": [
       "(350, 350, 3)"
      ]
     },
     "execution_count": 170,
     "metadata": {},
     "output_type": "execute_result"
    }
   ],
   "source": [
    "amara.shape"
   ]
  },
  {
   "cell_type": "code",
   "execution_count": 171,
   "id": "a7839f65",
   "metadata": {},
   "outputs": [],
   "source": [
    "cv2.imshow(\"kenichi\",kenichi)\n",
    "cv2.imshow(\"amara\",amara)\n",
    "cv2.waitKey()\n",
    "cv2.destroyAllWindows()"
   ]
  },
  {
   "cell_type": "code",
   "execution_count": 172,
   "id": "7ce0431e",
   "metadata": {},
   "outputs": [],
   "source": [
    "kenichi_face=kenichi[20:210,90:260]\n",
    "amara[20:210,90:260]=kenichi_face\n",
    "cv2.imshow(\"amara\",amara)\n",
    "cv2.waitKey()\n",
    "cv2.destroyAllWindows()"
   ]
  },
  {
   "cell_type": "code",
   "execution_count": 173,
   "id": "e21b8a46",
   "metadata": {},
   "outputs": [],
   "source": [
    "amara=cv2.imread(\"amara.jpeg\")\n",
    "amara_face=amara[15:215,90:270]\n",
    "kenichi[15:215,90:270]=amara_face\n",
    "cv2.imshow(\"kenichi\",kenichi)\n",
    "cv2.waitKey()\n",
    "cv2.destroyAllWindows()"
   ]
  },
  {
   "cell_type": "code",
   "execution_count": null,
   "id": "0625d3b4",
   "metadata": {},
   "outputs": [],
   "source": []
  }
 ],
 "metadata": {
  "kernelspec": {
   "display_name": "Python 3",
   "language": "python",
   "name": "python3"
  },
  "language_info": {
   "codemirror_mode": {
    "name": "ipython",
    "version": 3
   },
   "file_extension": ".py",
   "mimetype": "text/x-python",
   "name": "python",
   "nbconvert_exporter": "python",
   "pygments_lexer": "ipython3",
   "version": "3.8.8"
  }
 },
 "nbformat": 4,
 "nbformat_minor": 5
}
