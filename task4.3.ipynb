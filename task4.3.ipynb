{
 "cells": [
  {
   "cell_type": "code",
   "execution_count": 51,
   "id": "f7c4d108",
   "metadata": {},
   "outputs": [],
   "source": [
    "#making a collage"
   ]
  },
  {
   "cell_type": "code",
   "execution_count": 52,
   "id": "13c5a6bd",
   "metadata": {},
   "outputs": [],
   "source": [
    "import cv2"
   ]
  },
  {
   "cell_type": "code",
   "execution_count": 53,
   "id": "116aff72",
   "metadata": {},
   "outputs": [],
   "source": [
    "chandler=cv2.imread(\"chandler.jpg\")"
   ]
  },
  {
   "cell_type": "code",
   "execution_count": 54,
   "id": "cc3ddd8f",
   "metadata": {},
   "outputs": [
    {
     "data": {
      "text/plain": [
       "(495, 495, 3)"
      ]
     },
     "execution_count": 54,
     "metadata": {},
     "output_type": "execute_result"
    }
   ],
   "source": [
    "chandler.shape"
   ]
  },
  {
   "cell_type": "code",
   "execution_count": 55,
   "id": "c4b114fa",
   "metadata": {},
   "outputs": [],
   "source": [
    "joey=cv2.imread(\"joey.jpg\")"
   ]
  },
  {
   "cell_type": "code",
   "execution_count": 56,
   "id": "29c4d4f3",
   "metadata": {},
   "outputs": [
    {
     "data": {
      "text/plain": [
       "(495, 495, 3)"
      ]
     },
     "execution_count": 56,
     "metadata": {},
     "output_type": "execute_result"
    }
   ],
   "source": [
    "joey.shape"
   ]
  },
  {
   "cell_type": "code",
   "execution_count": 57,
   "id": "94ca8412",
   "metadata": {},
   "outputs": [],
   "source": [
    "cv2.imshow(\"chandler\",chandler)\n",
    "cv2.imshow(\"joey\",joey)\n",
    "cv2.waitKey()\n",
    "cv2.destroyAllWindows()"
   ]
  },
  {
   "cell_type": "code",
   "execution_count": 58,
   "id": "7d8b868a",
   "metadata": {},
   "outputs": [],
   "source": [
    "import numpy"
   ]
  },
  {
   "cell_type": "code",
   "execution_count": 59,
   "id": "f0b777c7",
   "metadata": {},
   "outputs": [],
   "source": [
    "friends=numpy.hstack((chandler,joey))"
   ]
  },
  {
   "cell_type": "code",
   "execution_count": 60,
   "id": "81415c36",
   "metadata": {},
   "outputs": [],
   "source": [
    "cv2.imshow(\"friends\",friends)\n",
    "cv2.waitKey()\n",
    "cv2.destroyAllWindows()"
   ]
  },
  {
   "cell_type": "code",
   "execution_count": null,
   "id": "d73eebd4",
   "metadata": {},
   "outputs": [],
   "source": []
  }
 ],
 "metadata": {
  "kernelspec": {
   "display_name": "Python 3",
   "language": "python",
   "name": "python3"
  },
  "language_info": {
   "codemirror_mode": {
    "name": "ipython",
    "version": 3
   },
   "file_extension": ".py",
   "mimetype": "text/x-python",
   "name": "python",
   "nbconvert_exporter": "python",
   "pygments_lexer": "ipython3",
   "version": "3.8.8"
  }
 },
 "nbformat": 4,
 "nbformat_minor": 5
}
